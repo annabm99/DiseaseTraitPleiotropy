{
  "nbformat": 4,
  "nbformat_minor": 0,
  "metadata": {
    "colab": {
      "provenance": [],
      "authorship_tag": "ABX9TyODBz2pHR4DyStH4YrtW16g",
      "include_colab_link": true
    },
    "kernelspec": {
      "name": "python3",
      "display_name": "Python 3"
    },
    "language_info": {
      "name": "python"
    }
  },
  "cells": [
    {
      "cell_type": "markdown",
      "metadata": {
        "id": "view-in-github",
        "colab_type": "text"
      },
      "source": [
        "<a href=\"https://colab.research.google.com/github/annabm99/DiseaseTraitPleiotropy/blob/main/Func_analysis_BMI.ipynb\" target=\"_parent\"><img src=\"https://colab.research.google.com/assets/colab-badge.svg\" alt=\"Open In Colab\"/></a>"
      ]
    },
    {
      "cell_type": "markdown",
      "source": [
        "#1. Preparation"
      ],
      "metadata": {
        "id": "fjoPdha12KhC"
      }
    },
    {
      "cell_type": "markdown",
      "source": [
        "##Install package(s)"
      ],
      "metadata": {
        "id": "h9Ss2en-2r0G"
      }
    },
    {
      "cell_type": "code",
      "source": [
        "!pip install easy_entrez\n",
        "!pip install pylatex\n",
        "!apt-get install -y texlive texlive-xetex texlive-latex-extra pandoc\n",
        "!pip install pypandoc"
      ],
      "metadata": {
        "colab": {
          "base_uri": "https://localhost:8080/"
        },
        "id": "l0p0CJ8LA3Kz",
        "outputId": "06e888f2-0177-40b8-8a47-c5ae2b908391"
      },
      "execution_count": 1,
      "outputs": [
        {
          "output_type": "stream",
          "name": "stdout",
          "text": [
            "Collecting easy_entrez\n",
            "  Downloading easy_entrez-0.3.7-py3-none-any.whl (21 kB)\n",
            "Requirement already satisfied: requests in /usr/local/lib/python3.10/dist-packages (from easy_entrez) (2.31.0)\n",
            "Requirement already satisfied: typing-extensions in /usr/local/lib/python3.10/dist-packages (from easy_entrez) (4.11.0)\n",
            "Requirement already satisfied: charset-normalizer<4,>=2 in /usr/local/lib/python3.10/dist-packages (from requests->easy_entrez) (3.3.2)\n",
            "Requirement already satisfied: idna<4,>=2.5 in /usr/local/lib/python3.10/dist-packages (from requests->easy_entrez) (3.6)\n",
            "Requirement already satisfied: urllib3<3,>=1.21.1 in /usr/local/lib/python3.10/dist-packages (from requests->easy_entrez) (2.0.7)\n",
            "Requirement already satisfied: certifi>=2017.4.17 in /usr/local/lib/python3.10/dist-packages (from requests->easy_entrez) (2024.2.2)\n",
            "Installing collected packages: easy_entrez\n",
            "Successfully installed easy_entrez-0.3.7\n",
            "Collecting pylatex\n",
            "  Downloading PyLaTeX-1.4.2.tar.gz (59 kB)\n",
            "\u001b[2K     \u001b[90m━━━━━━━━━━━━━━━━━━━━━━━━━━━━━━━━━━━━━━━━\u001b[0m \u001b[32m59.7/59.7 kB\u001b[0m \u001b[31m1.3 MB/s\u001b[0m eta \u001b[36m0:00:00\u001b[0m\n",
            "\u001b[?25h  Installing build dependencies ... \u001b[?25l\u001b[?25hdone\n",
            "  Getting requirements to build wheel ... \u001b[?25l\u001b[?25hdone\n",
            "  Preparing metadata (pyproject.toml) ... \u001b[?25l\u001b[?25hdone\n",
            "Collecting ordered-set (from pylatex)\n",
            "  Downloading ordered_set-4.1.0-py3-none-any.whl (7.6 kB)\n",
            "Building wheels for collected packages: pylatex\n",
            "  Building wheel for pylatex (pyproject.toml) ... \u001b[?25l\u001b[?25hdone\n",
            "  Created wheel for pylatex: filename=PyLaTeX-1.4.2-py3-none-any.whl size=43560 sha256=0a73b64b49395961f4b9ce0cf3d11c94700d32ee83c2b8373fe5128d6df77020\n",
            "  Stored in directory: /root/.cache/pip/wheels/a3/60/09/c6f9f98feac18da1b5fc02bd765c6b3cb9a0f75955a12b27ad\n",
            "Successfully built pylatex\n",
            "Installing collected packages: ordered-set, pylatex\n",
            "Successfully installed ordered-set-4.1.0 pylatex-1.4.2\n",
            "Reading package lists... Done\n",
            "Building dependency tree... Done\n",
            "Reading state information... Done\n",
            "pandoc is already the newest version (2.9.2.1-3ubuntu2).\n",
            "pandoc set to manually installed.\n",
            "The following additional packages will be installed:\n",
            "  dvisvgm fonts-droid-fallback fonts-lato fonts-lmodern fonts-noto-mono fonts-texgyre\n",
            "  fonts-urw-base35 libapache-pom-java libcommons-logging-java libcommons-parent-java\n",
            "  libfontbox-java libfontenc1 libgs9 libgs9-common libidn12 libijs-0.35 libjbig2dec0 libkpathsea6\n",
            "  libpdfbox-java libptexenc1 libruby3.0 libsynctex2 libteckit0 libtexlua53 libtexluajit2 libwoff1\n",
            "  libzzip-0-13 lmodern poppler-data preview-latex-style rake ruby ruby-net-telnet ruby-rubygems\n",
            "  ruby-webrick ruby-xmlrpc ruby3.0 rubygems-integration t1utils teckit tex-common tex-gyre\n",
            "  texlive-base texlive-binaries texlive-fonts-recommended texlive-latex-base\n",
            "  texlive-latex-recommended texlive-pictures texlive-plain-generic tipa xfonts-encodings\n",
            "  xfonts-utils\n",
            "Suggested packages:\n",
            "  fonts-noto fonts-freefont-otf | fonts-freefont-ttf libavalon-framework-java\n",
            "  libcommons-logging-java-doc libexcalibur-logkit-java liblog4j1.2-java poppler-utils ghostscript\n",
            "  fonts-japanese-mincho | fonts-ipafont-mincho fonts-japanese-gothic | fonts-ipafont-gothic\n",
            "  fonts-arphic-ukai fonts-arphic-uming fonts-nanum ri ruby-dev bundler debhelper gv\n",
            "  | postscript-viewer perl-tk xpdf | pdf-viewer xzdec texlive-fonts-recommended-doc\n",
            "  texlive-latex-base-doc python3-pygments icc-profiles libfile-which-perl\n",
            "  libspreadsheet-parseexcel-perl texlive-latex-extra-doc texlive-latex-recommended-doc\n",
            "  texlive-luatex texlive-pstricks dot2tex prerex texlive-pictures-doc vprerex default-jre-headless\n",
            "  tipa-doc\n",
            "The following NEW packages will be installed:\n",
            "  dvisvgm fonts-droid-fallback fonts-lato fonts-lmodern fonts-noto-mono fonts-texgyre\n",
            "  fonts-urw-base35 libapache-pom-java libcommons-logging-java libcommons-parent-java\n",
            "  libfontbox-java libfontenc1 libgs9 libgs9-common libidn12 libijs-0.35 libjbig2dec0 libkpathsea6\n",
            "  libpdfbox-java libptexenc1 libruby3.0 libsynctex2 libteckit0 libtexlua53 libtexluajit2 libwoff1\n",
            "  libzzip-0-13 lmodern poppler-data preview-latex-style rake ruby ruby-net-telnet ruby-rubygems\n",
            "  ruby-webrick ruby-xmlrpc ruby3.0 rubygems-integration t1utils teckit tex-common tex-gyre texlive\n",
            "  texlive-base texlive-binaries texlive-fonts-recommended texlive-latex-base texlive-latex-extra\n",
            "  texlive-latex-recommended texlive-pictures texlive-plain-generic texlive-xetex tipa\n",
            "  xfonts-encodings xfonts-utils\n",
            "0 upgraded, 55 newly installed, 0 to remove and 45 not upgraded.\n",
            "Need to get 182 MB of archives.\n",
            "After this operation, 572 MB of additional disk space will be used.\n",
            "Get:1 http://archive.ubuntu.com/ubuntu jammy/main amd64 fonts-droid-fallback all 1:6.0.1r16-1.1build1 [1,805 kB]\n",
            "Get:2 http://archive.ubuntu.com/ubuntu jammy/main amd64 fonts-lato all 2.0-2.1 [2,696 kB]\n",
            "Get:3 http://archive.ubuntu.com/ubuntu jammy/main amd64 poppler-data all 0.4.11-1 [2,171 kB]\n",
            "Get:4 http://archive.ubuntu.com/ubuntu jammy/universe amd64 tex-common all 6.17 [33.7 kB]\n",
            "Get:5 http://archive.ubuntu.com/ubuntu jammy/main amd64 fonts-urw-base35 all 20200910-1 [6,367 kB]\n",
            "Get:6 http://archive.ubuntu.com/ubuntu jammy-updates/main amd64 libgs9-common all 9.55.0~dfsg1-0ubuntu5.6 [751 kB]\n",
            "Get:7 http://archive.ubuntu.com/ubuntu jammy-updates/main amd64 libidn12 amd64 1.38-4ubuntu1 [60.0 kB]\n",
            "Get:8 http://archive.ubuntu.com/ubuntu jammy/main amd64 libijs-0.35 amd64 0.35-15build2 [16.5 kB]\n",
            "Get:9 http://archive.ubuntu.com/ubuntu jammy/main amd64 libjbig2dec0 amd64 0.19-3build2 [64.7 kB]\n",
            "Get:10 http://archive.ubuntu.com/ubuntu jammy-updates/main amd64 libgs9 amd64 9.55.0~dfsg1-0ubuntu5.6 [5,031 kB]\n",
            "Get:11 http://archive.ubuntu.com/ubuntu jammy-updates/main amd64 libkpathsea6 amd64 2021.20210626.59705-1ubuntu0.2 [60.4 kB]\n",
            "Get:12 http://archive.ubuntu.com/ubuntu jammy/main amd64 libwoff1 amd64 1.0.2-1build4 [45.2 kB]\n",
            "Get:13 http://archive.ubuntu.com/ubuntu jammy/universe amd64 dvisvgm amd64 2.13.1-1 [1,221 kB]\n",
            "Get:14 http://archive.ubuntu.com/ubuntu jammy/universe amd64 fonts-lmodern all 2.004.5-6.1 [4,532 kB]\n",
            "Get:15 http://archive.ubuntu.com/ubuntu jammy/main amd64 fonts-noto-mono all 20201225-1build1 [397 kB]\n",
            "Get:16 http://archive.ubuntu.com/ubuntu jammy/universe amd64 fonts-texgyre all 20180621-3.1 [10.2 MB]\n",
            "Get:17 http://archive.ubuntu.com/ubuntu jammy/universe amd64 libapache-pom-java all 18-1 [4,720 B]\n",
            "Get:18 http://archive.ubuntu.com/ubuntu jammy/universe amd64 libcommons-parent-java all 43-1 [10.8 kB]\n",
            "Get:19 http://archive.ubuntu.com/ubuntu jammy/universe amd64 libcommons-logging-java all 1.2-2 [60.3 kB]\n",
            "Get:20 http://archive.ubuntu.com/ubuntu jammy/main amd64 libfontenc1 amd64 1:1.1.4-1build3 [14.7 kB]\n",
            "Get:21 http://archive.ubuntu.com/ubuntu jammy-updates/main amd64 libptexenc1 amd64 2021.20210626.59705-1ubuntu0.2 [39.1 kB]\n",
            "Get:22 http://archive.ubuntu.com/ubuntu jammy/main amd64 rubygems-integration all 1.18 [5,336 B]\n",
            "Get:23 http://archive.ubuntu.com/ubuntu jammy-updates/main amd64 ruby3.0 amd64 3.0.2-7ubuntu2.4 [50.1 kB]\n",
            "Get:24 http://archive.ubuntu.com/ubuntu jammy/main amd64 ruby-rubygems all 3.3.5-2 [228 kB]\n",
            "Get:25 http://archive.ubuntu.com/ubuntu jammy/main amd64 ruby amd64 1:3.0~exp1 [5,100 B]\n",
            "Get:26 http://archive.ubuntu.com/ubuntu jammy/main amd64 rake all 13.0.6-2 [61.7 kB]\n",
            "Get:27 http://archive.ubuntu.com/ubuntu jammy/main amd64 ruby-net-telnet all 0.1.1-2 [12.6 kB]\n",
            "Get:28 http://archive.ubuntu.com/ubuntu jammy/universe amd64 ruby-webrick all 1.7.0-3 [51.8 kB]\n",
            "Get:29 http://archive.ubuntu.com/ubuntu jammy-updates/main amd64 ruby-xmlrpc all 0.3.2-1ubuntu0.1 [24.9 kB]\n",
            "Get:30 http://archive.ubuntu.com/ubuntu jammy-updates/main amd64 libruby3.0 amd64 3.0.2-7ubuntu2.4 [5,113 kB]\n",
            "Get:31 http://archive.ubuntu.com/ubuntu jammy-updates/main amd64 libsynctex2 amd64 2021.20210626.59705-1ubuntu0.2 [55.6 kB]\n",
            "Get:32 http://archive.ubuntu.com/ubuntu jammy/universe amd64 libteckit0 amd64 2.5.11+ds1-1 [421 kB]\n",
            "Get:33 http://archive.ubuntu.com/ubuntu jammy-updates/main amd64 libtexlua53 amd64 2021.20210626.59705-1ubuntu0.2 [120 kB]\n",
            "Get:34 http://archive.ubuntu.com/ubuntu jammy-updates/main amd64 libtexluajit2 amd64 2021.20210626.59705-1ubuntu0.2 [267 kB]\n",
            "Get:35 http://archive.ubuntu.com/ubuntu jammy/universe amd64 libzzip-0-13 amd64 0.13.72+dfsg.1-1.1 [27.0 kB]\n",
            "Get:36 http://archive.ubuntu.com/ubuntu jammy/main amd64 xfonts-encodings all 1:1.0.5-0ubuntu2 [578 kB]\n",
            "Get:37 http://archive.ubuntu.com/ubuntu jammy/main amd64 xfonts-utils amd64 1:7.7+6build2 [94.6 kB]\n",
            "Get:38 http://archive.ubuntu.com/ubuntu jammy/universe amd64 lmodern all 2.004.5-6.1 [9,471 kB]\n",
            "Get:39 http://archive.ubuntu.com/ubuntu jammy/universe amd64 preview-latex-style all 12.2-1ubuntu1 [185 kB]\n",
            "Get:40 http://archive.ubuntu.com/ubuntu jammy/main amd64 t1utils amd64 1.41-4build2 [61.3 kB]\n",
            "Get:41 http://archive.ubuntu.com/ubuntu jammy/universe amd64 teckit amd64 2.5.11+ds1-1 [699 kB]\n",
            "Get:42 http://archive.ubuntu.com/ubuntu jammy/universe amd64 tex-gyre all 20180621-3.1 [6,209 kB]\n",
            "Get:43 http://archive.ubuntu.com/ubuntu jammy-updates/universe amd64 texlive-binaries amd64 2021.20210626.59705-1ubuntu0.2 [9,860 kB]\n",
            "Get:44 http://archive.ubuntu.com/ubuntu jammy/universe amd64 texlive-base all 2021.20220204-1 [21.0 MB]\n",
            "Get:45 http://archive.ubuntu.com/ubuntu jammy/universe amd64 texlive-fonts-recommended all 2021.20220204-1 [4,972 kB]\n",
            "Get:46 http://archive.ubuntu.com/ubuntu jammy/universe amd64 texlive-latex-base all 2021.20220204-1 [1,128 kB]\n",
            "Get:47 http://archive.ubuntu.com/ubuntu jammy/universe amd64 texlive-latex-recommended all 2021.20220204-1 [14.4 MB]\n",
            "Get:48 http://archive.ubuntu.com/ubuntu jammy/universe amd64 texlive all 2021.20220204-1 [14.3 kB]\n",
            "Get:49 http://archive.ubuntu.com/ubuntu jammy/universe amd64 libfontbox-java all 1:1.8.16-2 [207 kB]\n",
            "Get:50 http://archive.ubuntu.com/ubuntu jammy/universe amd64 libpdfbox-java all 1:1.8.16-2 [5,199 kB]\n",
            "Get:51 http://archive.ubuntu.com/ubuntu jammy/universe amd64 texlive-pictures all 2021.20220204-1 [8,720 kB]\n",
            "Get:52 http://archive.ubuntu.com/ubuntu jammy/universe amd64 texlive-latex-extra all 2021.20220204-1 [13.9 MB]\n",
            "Get:53 http://archive.ubuntu.com/ubuntu jammy/universe amd64 texlive-plain-generic all 2021.20220204-1 [27.5 MB]\n",
            "Get:54 http://archive.ubuntu.com/ubuntu jammy/universe amd64 tipa all 2:1.3-21 [2,967 kB]\n",
            "Get:55 http://archive.ubuntu.com/ubuntu jammy/universe amd64 texlive-xetex all 2021.20220204-1 [12.4 MB]\n",
            "Fetched 182 MB in 3s (65.6 MB/s)\n",
            "Extracting templates from packages: 100%\n",
            "Preconfiguring packages ...\n",
            "Selecting previously unselected package fonts-droid-fallback.\n",
            "(Reading database ... 121752 files and directories currently installed.)\n",
            "Preparing to unpack .../00-fonts-droid-fallback_1%3a6.0.1r16-1.1build1_all.deb ...\n",
            "Unpacking fonts-droid-fallback (1:6.0.1r16-1.1build1) ...\n",
            "Selecting previously unselected package fonts-lato.\n",
            "Preparing to unpack .../01-fonts-lato_2.0-2.1_all.deb ...\n",
            "Unpacking fonts-lato (2.0-2.1) ...\n",
            "Selecting previously unselected package poppler-data.\n",
            "Preparing to unpack .../02-poppler-data_0.4.11-1_all.deb ...\n",
            "Unpacking poppler-data (0.4.11-1) ...\n",
            "Selecting previously unselected package tex-common.\n",
            "Preparing to unpack .../03-tex-common_6.17_all.deb ...\n",
            "Unpacking tex-common (6.17) ...\n",
            "Selecting previously unselected package fonts-urw-base35.\n",
            "Preparing to unpack .../04-fonts-urw-base35_20200910-1_all.deb ...\n",
            "Unpacking fonts-urw-base35 (20200910-1) ...\n",
            "Selecting previously unselected package libgs9-common.\n",
            "Preparing to unpack .../05-libgs9-common_9.55.0~dfsg1-0ubuntu5.6_all.deb ...\n",
            "Unpacking libgs9-common (9.55.0~dfsg1-0ubuntu5.6) ...\n",
            "Selecting previously unselected package libidn12:amd64.\n",
            "Preparing to unpack .../06-libidn12_1.38-4ubuntu1_amd64.deb ...\n",
            "Unpacking libidn12:amd64 (1.38-4ubuntu1) ...\n",
            "Selecting previously unselected package libijs-0.35:amd64.\n",
            "Preparing to unpack .../07-libijs-0.35_0.35-15build2_amd64.deb ...\n",
            "Unpacking libijs-0.35:amd64 (0.35-15build2) ...\n",
            "Selecting previously unselected package libjbig2dec0:amd64.\n",
            "Preparing to unpack .../08-libjbig2dec0_0.19-3build2_amd64.deb ...\n",
            "Unpacking libjbig2dec0:amd64 (0.19-3build2) ...\n",
            "Selecting previously unselected package libgs9:amd64.\n",
            "Preparing to unpack .../09-libgs9_9.55.0~dfsg1-0ubuntu5.6_amd64.deb ...\n",
            "Unpacking libgs9:amd64 (9.55.0~dfsg1-0ubuntu5.6) ...\n",
            "Selecting previously unselected package libkpathsea6:amd64.\n",
            "Preparing to unpack .../10-libkpathsea6_2021.20210626.59705-1ubuntu0.2_amd64.deb ...\n",
            "Unpacking libkpathsea6:amd64 (2021.20210626.59705-1ubuntu0.2) ...\n",
            "Selecting previously unselected package libwoff1:amd64.\n",
            "Preparing to unpack .../11-libwoff1_1.0.2-1build4_amd64.deb ...\n",
            "Unpacking libwoff1:amd64 (1.0.2-1build4) ...\n",
            "Selecting previously unselected package dvisvgm.\n",
            "Preparing to unpack .../12-dvisvgm_2.13.1-1_amd64.deb ...\n",
            "Unpacking dvisvgm (2.13.1-1) ...\n",
            "Selecting previously unselected package fonts-lmodern.\n",
            "Preparing to unpack .../13-fonts-lmodern_2.004.5-6.1_all.deb ...\n",
            "Unpacking fonts-lmodern (2.004.5-6.1) ...\n",
            "Selecting previously unselected package fonts-noto-mono.\n",
            "Preparing to unpack .../14-fonts-noto-mono_20201225-1build1_all.deb ...\n",
            "Unpacking fonts-noto-mono (20201225-1build1) ...\n",
            "Selecting previously unselected package fonts-texgyre.\n",
            "Preparing to unpack .../15-fonts-texgyre_20180621-3.1_all.deb ...\n",
            "Unpacking fonts-texgyre (20180621-3.1) ...\n",
            "Selecting previously unselected package libapache-pom-java.\n",
            "Preparing to unpack .../16-libapache-pom-java_18-1_all.deb ...\n",
            "Unpacking libapache-pom-java (18-1) ...\n",
            "Selecting previously unselected package libcommons-parent-java.\n",
            "Preparing to unpack .../17-libcommons-parent-java_43-1_all.deb ...\n",
            "Unpacking libcommons-parent-java (43-1) ...\n",
            "Selecting previously unselected package libcommons-logging-java.\n",
            "Preparing to unpack .../18-libcommons-logging-java_1.2-2_all.deb ...\n",
            "Unpacking libcommons-logging-java (1.2-2) ...\n",
            "Selecting previously unselected package libfontenc1:amd64.\n",
            "Preparing to unpack .../19-libfontenc1_1%3a1.1.4-1build3_amd64.deb ...\n",
            "Unpacking libfontenc1:amd64 (1:1.1.4-1build3) ...\n",
            "Selecting previously unselected package libptexenc1:amd64.\n",
            "Preparing to unpack .../20-libptexenc1_2021.20210626.59705-1ubuntu0.2_amd64.deb ...\n",
            "Unpacking libptexenc1:amd64 (2021.20210626.59705-1ubuntu0.2) ...\n",
            "Selecting previously unselected package rubygems-integration.\n",
            "Preparing to unpack .../21-rubygems-integration_1.18_all.deb ...\n",
            "Unpacking rubygems-integration (1.18) ...\n",
            "Selecting previously unselected package ruby3.0.\n",
            "Preparing to unpack .../22-ruby3.0_3.0.2-7ubuntu2.4_amd64.deb ...\n",
            "Unpacking ruby3.0 (3.0.2-7ubuntu2.4) ...\n",
            "Selecting previously unselected package ruby-rubygems.\n",
            "Preparing to unpack .../23-ruby-rubygems_3.3.5-2_all.deb ...\n",
            "Unpacking ruby-rubygems (3.3.5-2) ...\n",
            "Selecting previously unselected package ruby.\n",
            "Preparing to unpack .../24-ruby_1%3a3.0~exp1_amd64.deb ...\n",
            "Unpacking ruby (1:3.0~exp1) ...\n",
            "Selecting previously unselected package rake.\n",
            "Preparing to unpack .../25-rake_13.0.6-2_all.deb ...\n",
            "Unpacking rake (13.0.6-2) ...\n",
            "Selecting previously unselected package ruby-net-telnet.\n",
            "Preparing to unpack .../26-ruby-net-telnet_0.1.1-2_all.deb ...\n",
            "Unpacking ruby-net-telnet (0.1.1-2) ...\n",
            "Selecting previously unselected package ruby-webrick.\n",
            "Preparing to unpack .../27-ruby-webrick_1.7.0-3_all.deb ...\n",
            "Unpacking ruby-webrick (1.7.0-3) ...\n",
            "Selecting previously unselected package ruby-xmlrpc.\n",
            "Preparing to unpack .../28-ruby-xmlrpc_0.3.2-1ubuntu0.1_all.deb ...\n",
            "Unpacking ruby-xmlrpc (0.3.2-1ubuntu0.1) ...\n",
            "Selecting previously unselected package libruby3.0:amd64.\n",
            "Preparing to unpack .../29-libruby3.0_3.0.2-7ubuntu2.4_amd64.deb ...\n",
            "Unpacking libruby3.0:amd64 (3.0.2-7ubuntu2.4) ...\n",
            "Selecting previously unselected package libsynctex2:amd64.\n",
            "Preparing to unpack .../30-libsynctex2_2021.20210626.59705-1ubuntu0.2_amd64.deb ...\n",
            "Unpacking libsynctex2:amd64 (2021.20210626.59705-1ubuntu0.2) ...\n",
            "Selecting previously unselected package libteckit0:amd64.\n",
            "Preparing to unpack .../31-libteckit0_2.5.11+ds1-1_amd64.deb ...\n",
            "Unpacking libteckit0:amd64 (2.5.11+ds1-1) ...\n",
            "Selecting previously unselected package libtexlua53:amd64.\n",
            "Preparing to unpack .../32-libtexlua53_2021.20210626.59705-1ubuntu0.2_amd64.deb ...\n",
            "Unpacking libtexlua53:amd64 (2021.20210626.59705-1ubuntu0.2) ...\n",
            "Selecting previously unselected package libtexluajit2:amd64.\n",
            "Preparing to unpack .../33-libtexluajit2_2021.20210626.59705-1ubuntu0.2_amd64.deb ...\n",
            "Unpacking libtexluajit2:amd64 (2021.20210626.59705-1ubuntu0.2) ...\n",
            "Selecting previously unselected package libzzip-0-13:amd64.\n",
            "Preparing to unpack .../34-libzzip-0-13_0.13.72+dfsg.1-1.1_amd64.deb ...\n",
            "Unpacking libzzip-0-13:amd64 (0.13.72+dfsg.1-1.1) ...\n",
            "Selecting previously unselected package xfonts-encodings.\n",
            "Preparing to unpack .../35-xfonts-encodings_1%3a1.0.5-0ubuntu2_all.deb ...\n",
            "Unpacking xfonts-encodings (1:1.0.5-0ubuntu2) ...\n",
            "Selecting previously unselected package xfonts-utils.\n",
            "Preparing to unpack .../36-xfonts-utils_1%3a7.7+6build2_amd64.deb ...\n",
            "Unpacking xfonts-utils (1:7.7+6build2) ...\n",
            "Selecting previously unselected package lmodern.\n",
            "Preparing to unpack .../37-lmodern_2.004.5-6.1_all.deb ...\n",
            "Unpacking lmodern (2.004.5-6.1) ...\n",
            "Selecting previously unselected package preview-latex-style.\n",
            "Preparing to unpack .../38-preview-latex-style_12.2-1ubuntu1_all.deb ...\n",
            "Unpacking preview-latex-style (12.2-1ubuntu1) ...\n",
            "Selecting previously unselected package t1utils.\n",
            "Preparing to unpack .../39-t1utils_1.41-4build2_amd64.deb ...\n",
            "Unpacking t1utils (1.41-4build2) ...\n",
            "Selecting previously unselected package teckit.\n",
            "Preparing to unpack .../40-teckit_2.5.11+ds1-1_amd64.deb ...\n",
            "Unpacking teckit (2.5.11+ds1-1) ...\n",
            "Selecting previously unselected package tex-gyre.\n",
            "Preparing to unpack .../41-tex-gyre_20180621-3.1_all.deb ...\n",
            "Unpacking tex-gyre (20180621-3.1) ...\n",
            "Selecting previously unselected package texlive-binaries.\n",
            "Preparing to unpack .../42-texlive-binaries_2021.20210626.59705-1ubuntu0.2_amd64.deb ...\n",
            "Unpacking texlive-binaries (2021.20210626.59705-1ubuntu0.2) ...\n",
            "Selecting previously unselected package texlive-base.\n",
            "Preparing to unpack .../43-texlive-base_2021.20220204-1_all.deb ...\n",
            "Unpacking texlive-base (2021.20220204-1) ...\n",
            "Selecting previously unselected package texlive-fonts-recommended.\n",
            "Preparing to unpack .../44-texlive-fonts-recommended_2021.20220204-1_all.deb ...\n",
            "Unpacking texlive-fonts-recommended (2021.20220204-1) ...\n",
            "Selecting previously unselected package texlive-latex-base.\n",
            "Preparing to unpack .../45-texlive-latex-base_2021.20220204-1_all.deb ...\n",
            "Unpacking texlive-latex-base (2021.20220204-1) ...\n",
            "Selecting previously unselected package texlive-latex-recommended.\n",
            "Preparing to unpack .../46-texlive-latex-recommended_2021.20220204-1_all.deb ...\n",
            "Unpacking texlive-latex-recommended (2021.20220204-1) ...\n",
            "Selecting previously unselected package texlive.\n",
            "Preparing to unpack .../47-texlive_2021.20220204-1_all.deb ...\n",
            "Unpacking texlive (2021.20220204-1) ...\n",
            "Selecting previously unselected package libfontbox-java.\n",
            "Preparing to unpack .../48-libfontbox-java_1%3a1.8.16-2_all.deb ...\n",
            "Unpacking libfontbox-java (1:1.8.16-2) ...\n",
            "Selecting previously unselected package libpdfbox-java.\n",
            "Preparing to unpack .../49-libpdfbox-java_1%3a1.8.16-2_all.deb ...\n",
            "Unpacking libpdfbox-java (1:1.8.16-2) ...\n",
            "Selecting previously unselected package texlive-pictures.\n",
            "Preparing to unpack .../50-texlive-pictures_2021.20220204-1_all.deb ...\n",
            "Unpacking texlive-pictures (2021.20220204-1) ...\n",
            "Selecting previously unselected package texlive-latex-extra.\n",
            "Preparing to unpack .../51-texlive-latex-extra_2021.20220204-1_all.deb ...\n",
            "Unpacking texlive-latex-extra (2021.20220204-1) ...\n",
            "Selecting previously unselected package texlive-plain-generic.\n",
            "Preparing to unpack .../52-texlive-plain-generic_2021.20220204-1_all.deb ...\n",
            "Unpacking texlive-plain-generic (2021.20220204-1) ...\n",
            "Selecting previously unselected package tipa.\n",
            "Preparing to unpack .../53-tipa_2%3a1.3-21_all.deb ...\n",
            "Unpacking tipa (2:1.3-21) ...\n",
            "Selecting previously unselected package texlive-xetex.\n",
            "Preparing to unpack .../54-texlive-xetex_2021.20220204-1_all.deb ...\n",
            "Unpacking texlive-xetex (2021.20220204-1) ...\n",
            "Setting up fonts-lato (2.0-2.1) ...\n",
            "Setting up fonts-noto-mono (20201225-1build1) ...\n",
            "Setting up libwoff1:amd64 (1.0.2-1build4) ...\n",
            "Setting up libtexlua53:amd64 (2021.20210626.59705-1ubuntu0.2) ...\n",
            "Setting up libijs-0.35:amd64 (0.35-15build2) ...\n",
            "Setting up libtexluajit2:amd64 (2021.20210626.59705-1ubuntu0.2) ...\n",
            "Setting up libfontbox-java (1:1.8.16-2) ...\n",
            "Setting up rubygems-integration (1.18) ...\n",
            "Setting up libzzip-0-13:amd64 (0.13.72+dfsg.1-1.1) ...\n",
            "Setting up fonts-urw-base35 (20200910-1) ...\n",
            "Setting up poppler-data (0.4.11-1) ...\n",
            "Setting up tex-common (6.17) ...\n",
            "update-language: texlive-base not installed and configured, doing nothing!\n",
            "Setting up libfontenc1:amd64 (1:1.1.4-1build3) ...\n",
            "Setting up libjbig2dec0:amd64 (0.19-3build2) ...\n",
            "Setting up libteckit0:amd64 (2.5.11+ds1-1) ...\n",
            "Setting up libapache-pom-java (18-1) ...\n",
            "Setting up ruby-net-telnet (0.1.1-2) ...\n",
            "Setting up xfonts-encodings (1:1.0.5-0ubuntu2) ...\n",
            "Setting up t1utils (1.41-4build2) ...\n",
            "Setting up libidn12:amd64 (1.38-4ubuntu1) ...\n",
            "Setting up fonts-texgyre (20180621-3.1) ...\n",
            "Setting up libkpathsea6:amd64 (2021.20210626.59705-1ubuntu0.2) ...\n",
            "Setting up ruby-webrick (1.7.0-3) ...\n",
            "Setting up fonts-lmodern (2.004.5-6.1) ...\n",
            "Setting up fonts-droid-fallback (1:6.0.1r16-1.1build1) ...\n",
            "Setting up ruby-xmlrpc (0.3.2-1ubuntu0.1) ...\n",
            "Setting up libsynctex2:amd64 (2021.20210626.59705-1ubuntu0.2) ...\n",
            "Setting up libgs9-common (9.55.0~dfsg1-0ubuntu5.6) ...\n",
            "Setting up teckit (2.5.11+ds1-1) ...\n",
            "Setting up libpdfbox-java (1:1.8.16-2) ...\n",
            "Setting up libgs9:amd64 (9.55.0~dfsg1-0ubuntu5.6) ...\n",
            "Setting up preview-latex-style (12.2-1ubuntu1) ...\n",
            "Setting up libcommons-parent-java (43-1) ...\n",
            "Setting up dvisvgm (2.13.1-1) ...\n",
            "Setting up libcommons-logging-java (1.2-2) ...\n",
            "Setting up xfonts-utils (1:7.7+6build2) ...\n",
            "Setting up libptexenc1:amd64 (2021.20210626.59705-1ubuntu0.2) ...\n",
            "Setting up texlive-binaries (2021.20210626.59705-1ubuntu0.2) ...\n",
            "update-alternatives: using /usr/bin/xdvi-xaw to provide /usr/bin/xdvi.bin (xdvi.bin) in auto mode\n",
            "update-alternatives: using /usr/bin/bibtex.original to provide /usr/bin/bibtex (bibtex) in auto mode\n",
            "Setting up lmodern (2.004.5-6.1) ...\n",
            "Setting up texlive-base (2021.20220204-1) ...\n",
            "/usr/bin/ucfr\n",
            "/usr/bin/ucfr\n",
            "/usr/bin/ucfr\n",
            "/usr/bin/ucfr\n",
            "mktexlsr: Updating /var/lib/texmf/ls-R-TEXLIVEDIST... \n",
            "mktexlsr: Updating /var/lib/texmf/ls-R-TEXMFMAIN... \n",
            "mktexlsr: Updating /var/lib/texmf/ls-R... \n",
            "mktexlsr: Done.\n",
            "tl-paper: setting paper size for dvips to a4: /var/lib/texmf/dvips/config/config-paper.ps\n",
            "tl-paper: setting paper size for dvipdfmx to a4: /var/lib/texmf/dvipdfmx/dvipdfmx-paper.cfg\n",
            "tl-paper: setting paper size for xdvi to a4: /var/lib/texmf/xdvi/XDvi-paper\n",
            "tl-paper: setting paper size for pdftex to a4: /var/lib/texmf/tex/generic/tex-ini-files/pdftexconfig.tex\n",
            "Setting up tex-gyre (20180621-3.1) ...\n",
            "Setting up texlive-plain-generic (2021.20220204-1) ...\n",
            "Setting up texlive-latex-base (2021.20220204-1) ...\n",
            "Setting up texlive-latex-recommended (2021.20220204-1) ...\n",
            "Setting up texlive-pictures (2021.20220204-1) ...\n",
            "Setting up texlive-fonts-recommended (2021.20220204-1) ...\n",
            "Setting up tipa (2:1.3-21) ...\n",
            "Setting up texlive (2021.20220204-1) ...\n",
            "Setting up texlive-latex-extra (2021.20220204-1) ...\n",
            "Setting up texlive-xetex (2021.20220204-1) ...\n",
            "Setting up rake (13.0.6-2) ...\n",
            "Setting up libruby3.0:amd64 (3.0.2-7ubuntu2.4) ...\n",
            "Setting up ruby3.0 (3.0.2-7ubuntu2.4) ...\n",
            "Setting up ruby (1:3.0~exp1) ...\n",
            "Setting up ruby-rubygems (3.3.5-2) ...\n",
            "Processing triggers for man-db (2.10.2-1) ...\n",
            "Processing triggers for fontconfig (2.13.1-4.2ubuntu5) ...\n",
            "Processing triggers for libc-bin (2.35-0ubuntu3.4) ...\n",
            "/sbin/ldconfig.real: /usr/local/lib/libtbbmalloc.so.2 is not a symbolic link\n",
            "\n",
            "/sbin/ldconfig.real: /usr/local/lib/libtbbbind_2_0.so.3 is not a symbolic link\n",
            "\n",
            "/sbin/ldconfig.real: /usr/local/lib/libtbbmalloc_proxy.so.2 is not a symbolic link\n",
            "\n",
            "/sbin/ldconfig.real: /usr/local/lib/libtbb.so.12 is not a symbolic link\n",
            "\n",
            "/sbin/ldconfig.real: /usr/local/lib/libtbbbind_2_5.so.3 is not a symbolic link\n",
            "\n",
            "/sbin/ldconfig.real: /usr/local/lib/libtbbbind.so.3 is not a symbolic link\n",
            "\n",
            "Processing triggers for tex-common (6.17) ...\n",
            "Running updmap-sys. This may take some time... done.\n",
            "Running mktexlsr /var/lib/texmf ... done.\n",
            "Building format(s) --all.\n",
            "\tThis may take some time... done.\n",
            "Collecting pypandoc\n",
            "  Downloading pypandoc-1.13-py3-none-any.whl (21 kB)\n",
            "Installing collected packages: pypandoc\n",
            "Successfully installed pypandoc-1.13\n"
          ]
        }
      ]
    },
    {
      "cell_type": "markdown",
      "source": [
        "## Libraries"
      ],
      "metadata": {
        "id": "dE9OsR20qGtU"
      }
    },
    {
      "cell_type": "code",
      "source": [
        "import pandas as pd\n",
        "import numpy as np"
      ],
      "metadata": {
        "id": "YW-zHZ7oqFvO"
      },
      "execution_count": 2,
      "outputs": []
    },
    {
      "cell_type": "markdown",
      "source": [
        "## Import files"
      ],
      "metadata": {
        "id": "KPgzxT_bCE3A"
      }
    },
    {
      "cell_type": "code",
      "source": [
        "# Manual import of text files\n",
        "CAD_p = 'CAD_d_vs_BMI_t-positiveIDs.txt'\n",
        "CAD_n = 'CAD_d_vs_BMI_t-negativeIDs.txt'\n",
        "HT_p = 'HT_d_vs_BMI_t-positiveIDs.txt'\n",
        "HT_n = 'HT_d_vs_BMI_t-negativeIDs.txt'\n",
        "STR_p = 'STR_d_vs_BMI_t-positiveIDs.txt'\n",
        "STR_n = 'STR_d_vs_BMI_t-negativeIDs.txt'\n",
        "T2D_p = 'T2D_d_vs_BMI_t-positiveIDs.txt'\n",
        "T2D_n = 'T2D_d_vs_BMI_t-negativeIDs.txt'\n",
        "\n",
        "# Read the files and store their contents in a dictionary, keys are the names of the dataframes, values are the dataframes per se.\n",
        "data = {}\n",
        "for name, df in {'CAD_p': CAD_p, 'CAD_n': CAD_n, 'HT_p': HT_p, 'HT_n': HT_n, 'STR_p': STR_p, 'STR_n': STR_n, 'T2D_p': T2D_p, 'T2D_n': T2D_n}.items():\n",
        "    with open(df, 'r') as file:\n",
        "        data[name] = file.read()"
      ],
      "metadata": {
        "id": "76cfxLzjAEzi"
      },
      "execution_count": 3,
      "outputs": []
    },
    {
      "cell_type": "markdown",
      "source": [
        "The files containing rsIDs are stored in the data dictionary."
      ],
      "metadata": {
        "id": "P6rZOK3IogmK"
      }
    },
    {
      "cell_type": "markdown",
      "source": [
        "#2. Gene search"
      ],
      "metadata": {
        "id": "NJ_0IC9XowNp"
      }
    },
    {
      "cell_type": "markdown",
      "source": [
        "## Packages\n",
        "The easy_entrez package allows connecting to the NCBI server through API and retrieve information."
      ],
      "metadata": {
        "id": "lN4TDcuYo6Pp"
      }
    },
    {
      "cell_type": "code",
      "source": [
        "from easy_entrez import EntrezAPI"
      ],
      "metadata": {
        "id": "OcTlqkrQo5Zw"
      },
      "execution_count": 4,
      "outputs": []
    },
    {
      "cell_type": "markdown",
      "source": [
        "##Functions"
      ],
      "metadata": {
        "id": "3752yIvxAILG"
      }
    },
    {
      "cell_type": "markdown",
      "source": [
        "Get gene names from the rsID list:"
      ],
      "metadata": {
        "id": "V4s8W-CZAd2T"
      }
    },
    {
      "cell_type": "code",
      "source": [
        "def GetGene(lst):\n",
        "    try:\n",
        "        # Create an empty list to store rsID-gene pairs\n",
        "        rsid_gene_pairs = []\n",
        "\n",
        "        # Iterate through rsIDs (each is one line)\n",
        "        for rsID in lst.splitlines():\n",
        "            # Fetch data from Entrez\n",
        "            mask = entrez_api.fetch([rsID], max_results=3, database='snp').data\n",
        "\n",
        "            # Check if gene association is found\n",
        "            if isinstance(mask, dict):\n",
        "                continue  # Skip to the next rsID if no gene association is found\n",
        "\n",
        "            # Extract gene names\n",
        "            namespaces = {'ns0': 'https://www.ncbi.nlm.nih.gov/SNP/docsum'}\n",
        "            genes = [\n",
        "                name.text\n",
        "                for name in mask.findall('.//ns0:GENE_E/ns0:NAME', namespaces)\n",
        "            ]\n",
        "\n",
        "            # If gene association is found, append to list\n",
        "            if genes:\n",
        "                for gene in genes:\n",
        "                    rsid_gene_pairs.append({'rsID': rsID, 'Gene': gene})\n",
        "\n",
        "        # Convert list of dictionaries to DataFrame\n",
        "        rsid_gene_df = pd.DataFrame(rsid_gene_pairs)\n",
        "\n",
        "        return rsid_gene_df\n",
        "\n",
        "    # Error catching\n",
        "    except Exception as e:\n",
        "        print(f\"An error occurred: {str(e)}\")\n",
        "        return None\n"
      ],
      "metadata": {
        "id": "bWn1PkyoAK55"
      },
      "execution_count": 5,
      "outputs": []
    },
    {
      "cell_type": "markdown",
      "source": [
        "Group all rsIDs by gene:"
      ],
      "metadata": {
        "id": "Nh0fe_kMA6I-"
      }
    },
    {
      "cell_type": "code",
      "source": [
        "def GroupByGene(rsid_gene_df):\n",
        "    try:\n",
        "        # Initialize an empty list to store rows for the result DataFrame\n",
        "        result_rows = []\n",
        "\n",
        "        # Initialize an empty dictionary to store gene-rsID associations\n",
        "        gene_rsID_dict = {}\n",
        "\n",
        "        # Iterate over each row in the DataFrame\n",
        "        for index, row in rsid_gene_df.iterrows():\n",
        "            rsID = row['rsID']\n",
        "            gene = row['Gene']\n",
        "\n",
        "            # If gene is not already a key in the dictionary, add it with an empty list as value\n",
        "            if gene not in gene_rsID_dict:\n",
        "                gene_rsID_dict[gene] = []\n",
        "\n",
        "            # Append rsID to the list associated with the gene\n",
        "            gene_rsID_dict[gene].append(rsID)\n",
        "\n",
        "        # Iterate over the gene-rsID dictionary and create rows for the result DataFrame\n",
        "        for gene, rsIDs in gene_rsID_dict.items():\n",
        "            rsid_str = ', '.join(rsIDs)\n",
        "            result_rows.append({'Gene': gene, 'rsIDs': rsid_str})\n",
        "\n",
        "        # Create the result DataFrame\n",
        "        result_df = pd.DataFrame(result_rows)\n",
        "\n",
        "        return result_df\n",
        "\n",
        "    except Exception as e:\n",
        "        print(f\"An error occurred: {str(e)}\")\n",
        "        return None"
      ],
      "metadata": {
        "id": "yeO8n9mwUSeh"
      },
      "execution_count": 6,
      "outputs": []
    },
    {
      "cell_type": "markdown",
      "source": [
        "## Run gene search"
      ],
      "metadata": {
        "id": "s4DfoXDi-2g0"
      }
    },
    {
      "cell_type": "markdown",
      "source": [
        "Connect to the server:"
      ],
      "metadata": {
        "id": "7aTB0nwopTg8"
      }
    },
    {
      "cell_type": "code",
      "source": [
        "from easy_entrez import EntrezAPI\n",
        "\n",
        "entrez_api = EntrezAPI('Pleiotropies', 'anna.basquet01@estudiant.upf.edu')"
      ],
      "metadata": {
        "id": "NW2-mGxeA4mw"
      },
      "execution_count": 7,
      "outputs": []
    },
    {
      "cell_type": "markdown",
      "source": [
        "Run both functions and create a new results dictionary with the resulting information."
      ],
      "metadata": {
        "id": "rTSoitkVpVm_"
      }
    },
    {
      "cell_type": "code",
      "source": [
        "# Apply the functions to each DataFrame and store the results with modified names into a dictionary\n",
        "results = {}\n",
        "\n",
        "# Iterate through all dataframes stored in data\n",
        "for name, df in data.items():\n",
        "    # Modify the key name to include the suffix\n",
        "    name1 = f\"{name}_genes\"\n",
        "\n",
        "    # Apply the first function to the initial dataframe and store the result\n",
        "    gene_df = GetGene(df)\n",
        "\n",
        "    if gene_df is not None:\n",
        "        results[name1] = gene_df\n",
        "        print(f\"Gene extraction completed for {name}. Dataframe stored.\")\n",
        "    else:\n",
        "        print(f\"Gene extraction FAILED for {name}. Skipping to the next dataframe.\")\n",
        "        continue\n",
        "\n",
        "    # Apply the second function to the previously generated dataframe and store the result\n",
        "    name2 = f\"{name}_table\"\n",
        "    gene_table = GroupByGene(gene_df)\n",
        "\n",
        "    if gene_table is not None:\n",
        "        results[name2] = gene_table\n",
        "        print(f\"Table groupping by gene completed for {name}. Dataframe stored.\")\n",
        "    else:\n",
        "        print(f\"Gene groupping FAILED for {name}. Skipping to the next dataframe.\")\n",
        "        continue"
      ],
      "metadata": {
        "colab": {
          "base_uri": "https://localhost:8080/"
        },
        "id": "g26HdMI6Zq6V",
        "outputId": "9c651545-54de-4daf-97f4-f669dd63ba08"
      },
      "execution_count": 37,
      "outputs": [
        {
          "output_type": "stream",
          "name": "stdout",
          "text": [
            "Gene extraction completed for CAD_p. Dataframe stored.\n",
            "Table groupping by gene completed for CAD_p. Dataframe stored.\n",
            "Gene extraction completed for CAD_n. Dataframe stored.\n",
            "Table groupping by gene completed for CAD_n. Dataframe stored.\n",
            "Gene extraction completed for HT_p. Dataframe stored.\n",
            "Table groupping by gene completed for HT_p. Dataframe stored.\n",
            "Gene extraction completed for HT_n. Dataframe stored.\n",
            "Table groupping by gene completed for HT_n. Dataframe stored.\n",
            "Gene extraction completed for STR_p. Dataframe stored.\n",
            "Table groupping by gene completed for STR_p. Dataframe stored.\n",
            "Gene extraction completed for STR_n. Dataframe stored.\n",
            "Table groupping by gene completed for STR_n. Dataframe stored.\n",
            "Gene extraction completed for T2D_p. Dataframe stored.\n",
            "Table groupping by gene completed for T2D_p. Dataframe stored.\n",
            "Gene extraction completed for T2D_n. Dataframe stored.\n",
            "Table groupping by gene completed for T2D_n. Dataframe stored.\n"
          ]
        }
      ]
    },
    {
      "cell_type": "markdown",
      "source": [
        "#3. Overlapping genes"
      ],
      "metadata": {
        "id": "iUMNSwTtvkxM"
      }
    },
    {
      "cell_type": "code",
      "source": [
        "def FindOverlapping(df1, df2, name1, name2):\n",
        "\n",
        "  # Change rsIDs column names to differentiate between diseases\n",
        "  df1 = df1.rename(columns={'rsIDs': f'rsIDs_{name1}'})\n",
        "  df2 = df2.rename(columns={'rsIDs': f'rsIDs_{name2}'})\n",
        "\n",
        "  # Merge the dataframes by the gene name\n",
        "  merged_df = pd.merge(df1, df2, on='Gene')\n",
        "\n",
        "  # Create new empty column for overlapping rsIDs\n",
        "  merged_df['overlap_rsIDs']=np.nan\n",
        "\n",
        "  # Find the overlapping rsIDs\n",
        "  for index, row in merged_df.iterrows():\n",
        "    # Grab the rsIDs of each disease\n",
        "    rsIDs1 = set(rsID.strip() for rsID in row[f'rsIDs_{name1}'].split(','))\n",
        "    rsIDs2 = set(rsID.strip() for rsID in row[f'rsIDs_{name2}'].split(','))\n",
        "\n",
        "    # Find the intersection between the sets\n",
        "    overlap_rsIDs = rsIDs1.intersection(rsIDs2)\n",
        "\n",
        "    # Put them in a list and add them to the dataframe\n",
        "    merged_df.at[index, 'overlap_rsIDs'] = ','.join(overlap_rsIDs)\n",
        "\n",
        "  # Check if merged_df is empty\n",
        "  if merged_df.empty:\n",
        "    return None # Return nothing if empty\n",
        "  else:\n",
        "    return merged_df # Return dataframe"
      ],
      "metadata": {
        "id": "JGD4GaLpE21Q"
      },
      "execution_count": 34,
      "outputs": []
    },
    {
      "cell_type": "code",
      "source": [
        "# Initialize objects for the loop\n",
        "overlapping_dfs = list()\n",
        "compared_pairs = set()\n",
        "\n",
        "for name1, df1 in ((name, df) for name, df in results.items() if name.endswith('_table')):\n",
        "    for name2, df2 in ((name, df) for name, df in results.items() if name.endswith('_table')):\n",
        "\n",
        "      # Ensure we are comparing different dataframes and not repeating\n",
        "      if name1 != name2 and (name1, name2) not in compared_pairs and (name2, name1) not in compared_pairs:\n",
        "            # Grab prefix of each dataframe\n",
        "            pref1 = '_'.join(name1.split('_')[:2])\n",
        "            pref2 = '_'.join(name2.split('_')[:2])\n",
        "\n",
        "            # Find overlapping genes between the two dataframes\n",
        "            ovl_name = f'{pref1}_{pref2}'\n",
        "            ovl_df = FindOverlapping(df1, df2, pref1, pref2)\n",
        "\n",
        "            if ovl_df is not None:\n",
        "                overlapping_dfs.append([ovl_name, ovl_df])\n",
        "                print(f\"Overlapping genes found for {pref1} and {pref2}. Dataframe stored.\")\n",
        "            else:\n",
        "                print(f\"No overlapping genes found between {pref1} and {pref2}. Skipping to the next dataframe.\")\n",
        "\n",
        "            # Add the pair to the set of compared pairs\n",
        "            compared_pairs.add((name1, name2))\n",
        "\n",
        "# Update the results dictionary after the iteration is complete\n",
        "for i, df_list in enumerate(overlapping_dfs):\n",
        "    name, df = df_list\n",
        "    results[f'{name}_overlap'] = df"
      ],
      "metadata": {
        "colab": {
          "base_uri": "https://localhost:8080/"
        },
        "id": "KC1QCqqZwKP-",
        "outputId": "8efc2979-b501-4ada-a4ab-0e60ed2c8399"
      },
      "execution_count": 38,
      "outputs": [
        {
          "output_type": "stream",
          "name": "stdout",
          "text": [
            "No overlapping genes found between CAD_p and CAD_n. Skipping to the next dataframe.\n",
            "Overlapping genes found for CAD_p and HT_p. Dataframe stored.\n",
            "No overlapping genes found between CAD_p and HT_n. Skipping to the next dataframe.\n",
            "No overlapping genes found between CAD_p and STR_p. Skipping to the next dataframe.\n",
            "No overlapping genes found between CAD_p and STR_n. Skipping to the next dataframe.\n",
            "Overlapping genes found for CAD_p and T2D_p. Dataframe stored.\n",
            "No overlapping genes found between CAD_p and T2D_n. Skipping to the next dataframe.\n",
            "No overlapping genes found between CAD_n and HT_p. Skipping to the next dataframe.\n",
            "Overlapping genes found for CAD_n and HT_n. Dataframe stored.\n",
            "No overlapping genes found between CAD_n and STR_p. Skipping to the next dataframe.\n",
            "Overlapping genes found for CAD_n and STR_n. Dataframe stored.\n",
            "No overlapping genes found between CAD_n and T2D_p. Skipping to the next dataframe.\n",
            "Overlapping genes found for CAD_n and T2D_n. Dataframe stored.\n",
            "No overlapping genes found between HT_p and HT_n. Skipping to the next dataframe.\n",
            "No overlapping genes found between HT_p and STR_p. Skipping to the next dataframe.\n",
            "No overlapping genes found between HT_p and STR_n. Skipping to the next dataframe.\n",
            "Overlapping genes found for HT_p and T2D_p. Dataframe stored.\n",
            "No overlapping genes found between HT_p and T2D_n. Skipping to the next dataframe.\n",
            "No overlapping genes found between HT_n and STR_p. Skipping to the next dataframe.\n",
            "No overlapping genes found between HT_n and STR_n. Skipping to the next dataframe.\n",
            "No overlapping genes found between HT_n and T2D_p. Skipping to the next dataframe.\n",
            "No overlapping genes found between HT_n and T2D_n. Skipping to the next dataframe.\n",
            "No overlapping genes found between STR_p and STR_n. Skipping to the next dataframe.\n",
            "Overlapping genes found for STR_p and T2D_p. Dataframe stored.\n",
            "No overlapping genes found between STR_p and T2D_n. Skipping to the next dataframe.\n",
            "No overlapping genes found between STR_n and T2D_p. Skipping to the next dataframe.\n",
            "No overlapping genes found between STR_n and T2D_n. Skipping to the next dataframe.\n",
            "No overlapping genes found between T2D_p and T2D_n. Skipping to the next dataframe.\n"
          ]
        }
      ]
    },
    {
      "cell_type": "markdown",
      "source": [
        "# 5. Create output file"
      ],
      "metadata": {
        "id": "c4QDMia3p3-S"
      }
    },
    {
      "cell_type": "code",
      "source": [
        "from pylatex import Document, Tabular, NoEscape, Package, Section, Subsection, MediumText\n",
        "from pylatex.utils import bold"
      ],
      "metadata": {
        "id": "G4LHnEptpqPX"
      },
      "execution_count": 48,
      "outputs": []
    },
    {
      "cell_type": "code",
      "source": [
        "def ConstructTitlePleiotropy(name):\n",
        "    options = {\n",
        "        'CAD': 'Coronary Artery Disease',\n",
        "        'STR': 'Stroke',\n",
        "        'T2D': 'Type 2 Diabetes',\n",
        "        'HT': 'Hypertension',\n",
        "        'p': 'synergistic (positive)',\n",
        "        'n': 'antagonistic (negative)'\n",
        "    }\n",
        "    direction = ''\n",
        "    disease = ''\n",
        "    for part in name.split('_'):\n",
        "        if part in options:\n",
        "            if part in ['p', 'n']:\n",
        "                direction = options[part]\n",
        "            else:\n",
        "                disease = options[part]\n",
        "    return f\"Genes involved in {direction} pleiotropies between {disease} and Body Mass Index.\"\n",
        "\n",
        "def ConstructTitleOverlap(name):\n",
        "    options = {\n",
        "        'CAD': 'Coronary Artery Disease',\n",
        "        'STR': 'Stroke',\n",
        "        'T2D': 'Type 2 Diabetes',\n",
        "        'HT': 'Hypertension',\n",
        "        'p': 'synergistic (positive)',\n",
        "        'n': 'antagonistic (negative)'\n",
        "    }\n",
        "    direction1 = ''\n",
        "    direction2 = ''\n",
        "    disease1 = ''\n",
        "    disease2 = ''\n",
        "    for part1 in name.split('_')[:2]:\n",
        "      if part1 in ['p', 'n']:\n",
        "        direction1 = options[part1]\n",
        "      else:\n",
        "        disease1 = options[part1]\n",
        "    for part2 in name.split('_')[2:4]:\n",
        "      if part2 in ['p', 'n']:\n",
        "        direction2 = options[part2]\n",
        "      else:\n",
        "        disease2 = options[part2]\n",
        "\n",
        "\n",
        "    return f\"Overlapping genes involved in {direction1} pleiotropies for {disease1} and {direction2} pleiotropies for {disease2} with Body Mass Index.\""
      ],
      "metadata": {
        "id": "W0lnkookloN3"
      },
      "execution_count": 45,
      "outputs": []
    },
    {
      "cell_type": "code",
      "source": [
        "# Create a new document\n",
        "doc = Document()\n",
        "\n",
        "# Add the geometry package with custom margin settings\n",
        "doc.packages.append(Package('geometry', options=['margin=1.5cm']))\n",
        "\n",
        "# Add a section\n",
        "section_genes = Section('Pleiotropic genes')\n",
        "\n",
        "for name, df in results.items():\n",
        "    if name.endswith('_table'):\n",
        "\n",
        "        subsection = Subsection(ConstructTitlePleiotropy(name))\n",
        "\n",
        "        table = Tabular('l p{15cm}', row_height='0.9', booktabs=True)\n",
        "        table.add_row(bold('Gene'), bold('Overlapping rsIDs'))\n",
        "        table.add_hline()  # Add a horizontal line\n",
        "\n",
        "        # Add rows to the table\n",
        "        for index, row in df.iterrows():\n",
        "            # Use NoEscape to prevent pylatex from escaping special LaTeX characters\n",
        "            table.add_row(NoEscape(row['Gene']), NoEscape(row['rsIDs']))\n",
        "            table.add_hline(color='lightgray')  # Add a horizontal line\n",
        "\n",
        "        # Add the table to the subsection\n",
        "        subsection.append(NoEscape('\\\\begin{center}'))\n",
        "        subsection.append(table)\n",
        "        subsection.append(NoEscape('\\\\end{center}'))\n",
        "\n",
        "        # Add the subsection to the general section\n",
        "        section_genes.append(subsection)\n",
        "\n",
        "# Add section to the document after it has been constructed\n",
        "doc.append(section_genes)\n",
        "\n",
        "section_overlap = Section('Overlapping genes')\n",
        "\n",
        "for name, df in results.items():\n",
        "    if name.endswith('_overlap'):\n",
        "\n",
        "        subsection = Subsection(ConstructTitleOverlap(name))\n",
        "        # Create a new tabular environment with custom column format\n",
        "        table = Tabular('l p{15cm}', row_height='0.9', booktabs=True)\n",
        "        table.add_row(bold('Gene'), bold('rsIDs'))\n",
        "        table.add_hline()  # Add a horizontal line\n",
        "\n",
        "        # Add rows to the table\n",
        "        for index, row in df.iterrows():\n",
        "            # Use NoEscape to prevent pylatex from escaping special LaTeX characters\n",
        "            table.add_row(NoEscape(row['Gene']), NoEscape(row['overlap_rsIDs']))\n",
        "            table.add_hline(color='lightgray')  # Add a horizontal line\n",
        "\n",
        "        # Add the table to the document\n",
        "        subsection.append(NoEscape('\\\\begin{center}'))\n",
        "        subsection.append(table)\n",
        "        subsection.append(NoEscape('\\\\end{center}'))\n",
        "\n",
        "        # Add subsection to general section\n",
        "        section_overlap.append(subsection)\n",
        "\n",
        "# Add section to the document after it has been constructed\n",
        "doc.append(section_overlap)\n",
        "\n",
        "# Save the document to a file and compile it to a PDF\n",
        "doc.generate_pdf('BMI_genes', clean_tex=False)"
      ],
      "metadata": {
        "id": "fAw442qzOjXz"
      },
      "execution_count": 50,
      "outputs": []
    }
  ]
}